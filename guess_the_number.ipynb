{
 "cells": [
  {
   "cell_type": "code",
   "execution_count": 1,
   "id": "6944c17f",
   "metadata": {},
   "outputs": [],
   "source": [
    "import random"
   ]
  },
  {
   "cell_type": "code",
   "execution_count": 2,
   "id": "9af44243",
   "metadata": {},
   "outputs": [],
   "source": [
    "def guess(x):\n",
    "    random_number = random.randint(1, x)\n",
    "    guess = 0\n",
    "    while guess != random_number:\n",
    "        guess = int(input(f'Guess a number between 1 and {x}: '))\n",
    "        if guess < random_number:\n",
    "            print('Sorry, guess again. Too low.')\n",
    "        elif guess > random_number:\n",
    "            print('Sorry, guess again. Too high.')\n",
    "\n",
    "    print(f'Yay, congrats. You have guessed the number {random_number} correctly!!')\n"
   ]
  },
  {
   "cell_type": "code",
   "execution_count": 3,
   "id": "bcdcce51",
   "metadata": {},
   "outputs": [],
   "source": [
    "def computer_guess(x):\n",
    "    low = 1\n",
    "    high = x\n",
    "    feedback = ''\n",
    "    while feedback != 'c':\n",
    "        if low != high:\n",
    "            guess = random.randint(low, high)\n",
    "        else:\n",
    "            guess = low  # could also be high b/c low = high\n",
    "        feedback = input(f'Is {guess} too high (H), too low (L), or correct (C)?? ').lower()\n",
    "        if feedback == 'h':\n",
    "            high = guess - 1\n",
    "        elif feedback == 'l':\n",
    "            low = guess + 1\n",
    "\n",
    "    print(f'Yay! The computer guessed your number, {guess}, correctly!')\n"
   ]
  },
  {
   "cell_type": "code",
   "execution_count": 5,
   "id": "a2a4a02e",
   "metadata": {},
   "outputs": [
    {
     "name": "stdout",
     "output_type": "stream",
     "text": [
      "Guess a number between 1 and 100: 56\n",
      "Sorry, guess again. Too high.\n",
      "Guess a number between 1 and 100: 35\n",
      "Sorry, guess again. Too high.\n",
      "Guess a number between 1 and 100: 23\n",
      "Sorry, guess again. Too low.\n",
      "Guess a number between 1 and 100: 28\n",
      "Sorry, guess again. Too low.\n",
      "Guess a number between 1 and 100: 31\n",
      "Sorry, guess again. Too low.\n",
      "Guess a number between 1 and 100: 33\n",
      "Sorry, guess again. Too low.\n",
      "Guess a number between 1 and 100: 34\n",
      "Yay, congrats. You have guessed the number 34 correctly!!\n"
     ]
    }
   ],
   "source": [
    "guess(100)"
   ]
  },
  {
   "cell_type": "code",
   "execution_count": null,
   "id": "f0fcc513",
   "metadata": {},
   "outputs": [],
   "source": []
  }
 ],
 "metadata": {
  "kernelspec": {
   "display_name": "Python 3 (ipykernel)",
   "language": "python",
   "name": "python3"
  },
  "language_info": {
   "codemirror_mode": {
    "name": "ipython",
    "version": 3
   },
   "file_extension": ".py",
   "mimetype": "text/x-python",
   "name": "python",
   "nbconvert_exporter": "python",
   "pygments_lexer": "ipython3",
   "version": "3.9.1"
  }
 },
 "nbformat": 4,
 "nbformat_minor": 5
}
